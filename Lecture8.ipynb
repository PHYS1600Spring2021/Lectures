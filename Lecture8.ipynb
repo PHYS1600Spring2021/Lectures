{
 "cells": [
  {
   "cell_type": "markdown",
   "metadata": {},
   "source": [
    "# Lecture 8: Lorenz Model and Fractals\n",
    "\n",
    "**Overview:**\n",
    "* The Lorenz model, intermittency and chaos.\n",
    "* Fractals, a very simplified introduction.\n",
    "\n",
    "**Next Lecture:**\n",
    "* Boundary value problems.\n",
    "\n",
    "---"
   ]
  },
  {
   "cell_type": "code",
   "execution_count": null,
   "metadata": {
    "nbpresent": {
     "id": "785c90f4-eb34-4f30-bf71-0de371d25892"
    }
   },
   "outputs": [],
   "source": [
    "%matplotlib notebook\n",
    "import numpy as np, matplotlib.pyplot as plt\n",
    "from scipy.integrate import odeint\n",
    "\n",
    "# just in time complitation, used when generating Mandelbrot fractal\n",
    "from numba import jit\n"
   ]
  },
  {
   "cell_type": "markdown",
   "metadata": {},
   "source": [
    "## Lorenz Model\n",
    "\n",
    "Below we simulate and investigate the Lorenz model"
   ]
  },
  {
   "cell_type": "code",
   "execution_count": null,
   "metadata": {},
   "outputs": [],
   "source": [
    "def lorenz(X, t, sigma, beta, rho):\n",
    "    \"\"\"The Lorenz equations.\"\"\"\n",
    "    u, v, w = X\n",
    "    up = -sigma*(u - v)\n",
    "    vp = rho*u - v - u*w\n",
    "    wp = -beta*w + u*v\n",
    "    return up, vp, wp"
   ]
  },
  {
   "cell_type": "code",
   "execution_count": null,
   "metadata": {},
   "outputs": [],
   "source": [
    "# Lorenz paramters and initial conditions\n",
    "# sigma, beta, rho = 10, 2.667, 28\n",
    "sigma, beta, rho = 10, 2.667,28 \n",
    "# u0, v0, w0 = 0, 1, 1.05\n",
    "u0, v0, w0 = 1, 0, 0.0\n",
    "\n",
    "# Maximum time point and total number of time points\n",
    "tmax, n = 200, 5000\n"
   ]
  },
  {
   "cell_type": "markdown",
   "metadata": {},
   "source": [
    "## Integrate the Lorenz equations on a time grid\n",
    "\n",
    "### Periodic regime"
   ]
  },
  {
   "cell_type": "code",
   "execution_count": null,
   "metadata": {},
   "outputs": [],
   "source": [
    "t = np.linspace(0, tmax, n)\n",
    "\n",
    "fig = plt.figure(figsize = [8,6])\n",
    "ax = fig.add_subplot(111)\n",
    "\n",
    "rhos = [5,15,28] \n",
    "for ii in range(len(rhos)):\n",
    "    f = odeint(lorenz, (u0, v0, w0), t, args=(sigma, beta, rhos[ii]))\n",
    "    x, y, z = f.T  # transpose\n",
    "    \n",
    "    ## add offset to trajectories for visualization purposes\n",
    "    \n",
    "    ax.plot(t, z+10*ii, label = \"$\\\\rho$ = {}\".format(rhos[ii]))\n",
    "\n",
    "ax.set_xlim([0,50])\n",
    "ax.set_xlabel('t')\n",
    "ax.set_ylabel('z')\n",
    "ax.legend(loc = 4,fontsize = 12)\n"
   ]
  },
  {
   "cell_type": "markdown",
   "metadata": {},
   "source": [
    "### Chaotic regime"
   ]
  },
  {
   "cell_type": "code",
   "execution_count": null,
   "metadata": {},
   "outputs": [],
   "source": [
    "t = np.linspace(0, tmax, n)\n",
    "\n",
    "fig = plt.figure(figsize = [8,6])\n",
    "ax = fig.add_subplot(111)\n",
    "\n",
    "rhos = [165,166.1, 166.2, 166.7]  \n",
    "for ii in range(len(rhos)):\n",
    "    f = odeint(lorenz, (u0, v0, w0), t, args=(sigma, beta, rhos[ii]))\n",
    "    x, y, z = f.T  # transpose\n",
    "    ax.plot(t, z+200*ii, label = \"$\\\\rho$ = {}\".format(rhos[ii]))\n",
    "\n",
    "ax.set_xlim([0,50])\n",
    "ax.set_xlabel('t')\n",
    "ax.set_ylabel('z')\n",
    "ax.legend(loc = 4,fontsize = 12)"
   ]
  },
  {
   "cell_type": "markdown",
   "metadata": {},
   "source": [
    "### Tasks\n",
    "\n",
    "* Can you plot the famous Lorenz attractor? Phase space has three dimensions here, so you will need to choose appropriate projections for a 2D plot.\n",
    "\n",
    "* How might you construct a Poincare slice? (slice though a plane in phase space). Try to do so,"
   ]
  },
  {
   "cell_type": "markdown",
   "metadata": {
    "nbpresent": {
     "id": "090e8ece-91e7-4afd-a8bc-ac7f96a66068"
    }
   },
   "source": [
    "## Mandelbrot fractal\n",
    "\n",
    "- Explore different regions of the domain of the Mandelbrot fractal. It's infinite, no one will ever see the entire thing!\n",
    "\n",
    "- There are two new python concepts introduced here: function decorators (the @ symbol), and a method for speeding up python code by compiling (numba). \n",
    "   - Decorators can be very useful, but we won't need them for this course, if you are interested you can read more here: https://wiki.python.org/moin/PythonDecorators\n",
    "\n",
    "   - Numba uses \"just in time\" compilation to speed up critical regions of python code. There are many other ways to speed up python these include: numpy and vectorized looping, `weave`, `cython`, or `f2py`, to name the few most common ones. We may need to use one or two of these tools later when we talk about Molecular Dynamics. There are many good online resources for these tools if you are interested in learning more."
   ]
  },
  {
   "cell_type": "code",
   "execution_count": null,
   "metadata": {
    "nbpresent": {
     "id": "8a815b02-8909-4d21-9d75-febe41cff607"
    }
   },
   "outputs": [],
   "source": [
    "# the @ is a decorator\n",
    "# decorators are special python functions that modify a function.\n",
    "@jit\n",
    "def mandelbrot(c, maxiter):\n",
    "    z = c\n",
    "    for m in range(maxiter):\n",
    "        if (z.real*z.real + z.imag*z.imag >= 4.0): \n",
    "            return m\n",
    "        z = z*z + c\n",
    "    return 0\n",
    "\n",
    "def mandelbrot_set(x0,x_max,y0,y_max, nx, ny, maxiter):\n",
    "    x, y = np.linspace(x0,x_max,nx), np.linspace(y0, y_max, ny)\n",
    "    fractal = np.zeros((nx,ny,3))\n",
    "\n",
    "    for i in range(nx):\n",
    "        for k in range(ny):\n",
    "            m = mandelbrot(x[i] + 1j*y[k], maxiter)\n",
    "        \n",
    "            fractal[i,k] = [m, 2*m, 3*m]\n",
    "        \n",
    "    return fractal"
   ]
  },
  {
   "cell_type": "code",
   "execution_count": null,
   "metadata": {
    "nbpresent": {
     "id": "1da47658-3a94-4204-ab69-abe2c8c6e248"
    }
   },
   "outputs": [],
   "source": [
    "### Entire fractal\n",
    "x0, x_max, y0, y_max = -2.0, 0.5, -1.25, 1.25\n",
    "nx, ny, maxiter = 1024, 1024, 80\n",
    "\n",
    "### Zoom in on a detailed region\n",
    "x0_z, x_max_z, y0_z, y_max_z = -0.74877, -0.74872, 0.06505, 0.06510\n",
    "maxiter_z = 2048\n",
    "\n",
    "\n",
    "fractal = mandelbrot_set(x0,x_max,y0,y_max,nx,ny,maxiter)\n",
    "fractal_zoom = mandelbrot_set(x0_z,x_max_z,y0_z,y_max_z,nx,ny,maxiter_z)\n",
    "\n",
    "\n",
    "# using imshow to plot a colormap, this is one way to display an image in python\n",
    "fig = plt.figure(figsize = [6,12])\n",
    "ax1 = fig.add_subplot(211)\n",
    "ax2 = fig.add_subplot(212)\n",
    "\n",
    "ax1.imshow(fractal/maxiter, extent = [x0,x_max,y0,y_max],  aspect='auto', clim = (0,5e-3))\n",
    "ax2.imshow(fractal_zoom/maxiter_z, extent = [x0_z,x_max_z,y0_z,y_max_z],  aspect='auto', clim = (0,5e-6))\n",
    "plt.show()\n"
   ]
  },
  {
   "cell_type": "markdown",
   "metadata": {},
   "source": []
  }
 ],
 "metadata": {
  "kernelspec": {
   "display_name": "Python 3",
   "language": "python",
   "name": "python3"
  },
  "language_info": {
   "codemirror_mode": {
    "name": "ipython",
    "version": 3
   },
   "file_extension": ".py",
   "mimetype": "text/x-python",
   "name": "python",
   "nbconvert_exporter": "python",
   "pygments_lexer": "ipython3",
   "version": "3.8.5"
  },
  "nbpresent": {
   "slides": {
    "2215e876-80f6-4d3f-bc07-eed492bfc089": {
     "id": "2215e876-80f6-4d3f-bc07-eed492bfc089",
     "prev": null,
     "regions": {
      "e2d1015a-8b63-4f0f-91ca-96ac3e56c89d": {
       "attrs": {
        "height": 0.8,
        "width": 0.8,
        "x": 0.1,
        "y": 0.1
       },
       "content": {
        "cell": "090e8ece-91e7-4afd-a8bc-ac7f96a66068",
        "part": "whole"
       },
       "id": "e2d1015a-8b63-4f0f-91ca-96ac3e56c89d"
      }
     }
    },
    "29e36f36-4259-4542-93d2-8c9bc69c4c10": {
     "id": "29e36f36-4259-4542-93d2-8c9bc69c4c10",
     "prev": "639959d4-6c9d-4b02-a614-1065323aef69",
     "regions": {
      "c3135db3-fb54-42cb-8e11-506d800ffe22": {
       "attrs": {
        "height": 0.8,
        "width": 0.8,
        "x": 0.1,
        "y": 0.1
       },
       "content": {
        "cell": "249d4408-ed02-4b32-8429-30466092a339",
        "part": "whole"
       },
       "id": "c3135db3-fb54-42cb-8e11-506d800ffe22"
      }
     }
    },
    "639959d4-6c9d-4b02-a614-1065323aef69": {
     "id": "639959d4-6c9d-4b02-a614-1065323aef69",
     "prev": "d05f1fae-962d-454f-b987-15b40b5ed25e",
     "regions": {
      "a58b5464-bfeb-46ad-8e91-0dc16edd6a09": {
       "attrs": {
        "height": 0.8,
        "width": 0.8,
        "x": 0.1,
        "y": 0.1
       },
       "content": {
        "cell": "1da47658-3a94-4204-ab69-abe2c8c6e248",
        "part": "whole"
       },
       "id": "a58b5464-bfeb-46ad-8e91-0dc16edd6a09"
      }
     }
    },
    "a25251ce-329e-48d9-857a-629c271bf569": {
     "id": "a25251ce-329e-48d9-857a-629c271bf569",
     "prev": "2215e876-80f6-4d3f-bc07-eed492bfc089",
     "regions": {
      "83ff130e-09de-4d8f-b604-39df723e00a7": {
       "attrs": {
        "height": 0.8,
        "width": 0.8,
        "x": 0.1,
        "y": 0.1
       },
       "content": {
        "cell": "785c90f4-eb34-4f30-bf71-0de371d25892",
        "part": "whole"
       },
       "id": "83ff130e-09de-4d8f-b604-39df723e00a7"
      }
     }
    },
    "d05f1fae-962d-454f-b987-15b40b5ed25e": {
     "id": "d05f1fae-962d-454f-b987-15b40b5ed25e",
     "prev": "a25251ce-329e-48d9-857a-629c271bf569",
     "regions": {
      "f6dcdadb-e34c-4bde-9264-2f9e357e6e04": {
       "attrs": {
        "height": 0.8,
        "width": 0.8,
        "x": 0.1,
        "y": 0.1
       },
       "content": {
        "cell": "8a815b02-8909-4d21-9d75-febe41cff607",
        "part": "whole"
       },
       "id": "f6dcdadb-e34c-4bde-9264-2f9e357e6e04"
      }
     }
    },
    "fe754570-ab60-4606-bdae-69dda06d7bfc": {
     "id": "fe754570-ab60-4606-bdae-69dda06d7bfc",
     "prev": "29e36f36-4259-4542-93d2-8c9bc69c4c10",
     "regions": {
      "7ba7452c-039c-4a4b-8647-15c1a3b7cc58": {
       "attrs": {
        "height": 0.8,
        "width": 0.8,
        "x": 0.1,
        "y": 0.1
       },
       "content": {
        "cell": "21843586-ba28-4ae8-802a-b3dc78e99be5",
        "part": "whole"
       },
       "id": "7ba7452c-039c-4a4b-8647-15c1a3b7cc58"
      }
     }
    }
   },
   "themes": {}
  }
 },
 "nbformat": 4,
 "nbformat_minor": 2
}
