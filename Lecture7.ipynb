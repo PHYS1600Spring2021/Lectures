{
 "cells": [
  {
   "cell_type": "markdown",
   "metadata": {
    "collapsed": true
   },
   "source": [
    "# Lecture 7: Simple Models for Chaos and the logistic map\n",
    "\n",
    "**Overview:**\n",
    "* Revisit phase space plot and Poincare Map.\n",
    "* Properties of the Logistic Map.\n",
    "\n",
    "\n",
    "---"
   ]
  },
  {
   "cell_type": "code",
   "execution_count": null,
   "metadata": {},
   "outputs": [],
   "source": [
    "#%matplotlib notebook  \n",
    "import matplotlib.pyplot as plt # for plotting          \n",
    "import numpy as np\n",
    "# import our Pendulum class from Particle1D\n",
    "from Particle1D_2 import Pendulum\n",
    "import LogisticMap as lm\n"
   ]
  },
  {
   "cell_type": "markdown",
   "metadata": {},
   "source": [
    "## Exercise\n",
    "* Open the file `LogisticMap.py` in a text editor and examine the contents, make sure that you understand all of the components."
   ]
  },
  {
   "cell_type": "markdown",
   "metadata": {},
   "source": [
    "## The Logistic Map\n",
    "\n",
    "* Run the code below and change the $\\mu$ values to try to find stable fixed points of period 1T, 2T, 4T, and higher by adjusting the parameters $\\mu$ and $x_0$."
   ]
  },
  {
   "cell_type": "code",
   "execution_count": null,
   "metadata": {},
   "outputs": [],
   "source": [
    "fig = plt.figure(figsize = [9,7])\n",
    "axs = fig.subplots(3,2)\n",
    "    \n",
    "axs = list(axs.flatten())\n",
    "mus = [0.7,3.53,2.8,3.76,3.32,3.78] \n",
    "\n",
    "max_steps = 40\n",
    "\n",
    "for ii in range(6):\n",
    "\n",
    "    m = lm.LogisticMap(0.4, mu = mus[ii])\n",
    "    m.iterate(max_steps)\n",
    "\n",
    "    axs[ii].plot(m.xList, ls = '--', marker = 'o', ms = 3, lw =0.5, label = \"$\\mu$ = {0}, $x_0$ = {1}\".format(mus[ii], 0.8))\n",
    "    axs[ii].set_ylabel('$x_n$')\n",
    "    axs[ii].set_xlabel('$n$')\n",
    "    axs[ii].legend(loc = 4,fontsize = 12)\n",
    "    axs[ii].set_ylim([0,1])\n",
    "    axs[ii].set_xlim([0,max_steps+1])\n",
    "    axs[ii].set_yticks([0,0.5,1])\n",
    "        \n",
    "    \n",
    "    fig.subplots_adjust(top = 0.95, bottom =0.09, left = 0.10, right =0.98, wspace = 0.2, hspace = 0.4)\n",
    "\n"
   ]
  },
  {
   "cell_type": "markdown",
   "metadata": {},
   "source": [
    "## Period doubling and the logistic map\n",
    "\n",
    "* Can you modify the code below to generate a bifrucation diagram? Hint:  If you simply plot all points in a given time trace there will be too much data and a significant strain on memory.  Almost all of that data is redundant! To get rid of redundancies, look up the helpfile on the function `np.unique`.\n",
    "* Try modifying the range of $\\mu$ to create a higher point density in an interesting region and zoom in. How far can you zoom in?"
   ]
  },
  {
   "cell_type": "code",
   "execution_count": null,
   "metadata": {},
   "outputs": [],
   "source": [
    "# Generate a bifrucation diagram\n",
    "mu_start = 0\n",
    "mu_stop = 4\n",
    "mu_steps = 1000\n",
    "\n",
    "x0 = 0.8 \n",
    "\n",
    "# Generate an array of mu values\n",
    "mus = np.linspace(mu_start, mu_stop, mu_steps)\n",
    "  \n",
    "# containers for mu values and logistic map values\n",
    "mu_list = []\n",
    "m_list = []\n",
    "    \n",
    "# loop over the mu values\n",
    "for mu in mus:\n",
    "    \n",
    "    # generate a time trace for the logistic map at a given mu\n",
    "    m = lm.LogisticMap(x0, mu = mu)\n",
    "    \n",
    "    # initialize method removes transient\n",
    "    m.initialize(100)\n",
    "    m.iterate(1000)\n",
    "        \n",
    "    # convert list to numpy array object\n",
    "    m_points = np.array(m.xList)\n",
    "    \n",
    "    #!!!!!ADD YOUR CODE HERE to select key points from time trace here \n",
    "    mu_list.append(0)\n",
    "    m_list.append(0)\n",
    "\n",
    "fig = plt.figure(figsize = [8,5])\n",
    "ax = fig.add_subplot(111)\n",
    "ax.plot(mu_list, m_list,'.', markersize = 0.5)\n",
    "ax.set_xlabel('$\\mu$')\n",
    "ax.set_ylabel('$x_n$')\n"
   ]
  },
  {
   "cell_type": "markdown",
   "metadata": {
    "collapsed": true
   },
   "source": [
    "## Period doubling route to chaos and the Pendulum\n",
    "* Explore the period doubling route to chaos in the non-linear damped driven pendulum using the code below. Try to follow the periodicity of the solution as the period successively increases.  You can explore the same phenomena for the logistic map by adjusting parameters for the plots above in the cell above this one."
   ]
  },
  {
   "cell_type": "code",
   "execution_count": null,
   "metadata": {},
   "outputs": [],
   "source": [
    " # demonstate regime of chaotic behavior\n",
    "fig = plt.figure(figsize = [8,6])\n",
    "axs = fig.subplots(3,1)\n",
    "    \n",
    "Fds = [1.4,1.45,1.465] \n",
    "\n",
    "for ii in range(3):\n",
    "    p = Pendulum(nu = 1/2, Fd = Fds[ii], omega_d = 2./3. , x0 = 0.200, v0 = 0, tf = 420)\n",
    "    p.scipy_trajectory()\n",
    "\n",
    "    axs[ii].plot(p.tarray, p.xv[:,0],lw = 2, label = \"$F_d$ = {}\".format(Fds[ii]))\n",
    "    axs[ii].set_ylabel('$\\\\theta$ (rad)')\n",
    "    axs[ii].legend(loc = 4, fontsize = 12)\n",
    "    axs[ii].set_xlim([300,420])\n",
    "        \n",
    "\n",
    "    axs[-1].set_xlabel('t (s)')\n",
    "    \n",
    "fig.subplots_adjust(top = 0.98, bottom =0.08, left = 0.14, right =0.98)\n",
    "\n"
   ]
  },
  {
   "cell_type": "markdown",
   "metadata": {},
   "source": [
    "## Exercise:\n",
    "* Construct Poincare Maps for each of the above traces as you approach a chaotic solution. How many points should appear in each Poincare map for each solution with a given period n$\\Omega_d$?"
   ]
  },
  {
   "cell_type": "markdown",
   "metadata": {},
   "source": [
    "## Sensitivity to Initial Conditions"
   ]
  },
  {
   "cell_type": "code",
   "execution_count": null,
   "metadata": {},
   "outputs": [],
   "source": [
    "fig = plt.figure(figsize = [9,6])\n",
    "axs = fig.subplots(2,2)\n",
    "axs = axs.flatten()\n",
    "\n",
    "delta = 1e-10\n",
    "\n",
    "m1 = lm.LogisticMap(0.8, mu = 3.2)\n",
    "m1.iterate(80)\n",
    "m2 = lm.LogisticMap(0.8+delta, mu = 3.2)\n",
    "m2.iterate(80)\n",
    "diff1 = np.abs(np.array(m1.xList) - np.array(m2.xList))\n",
    "\n",
    "axs[0].plot(m1.xList, ls = '--', lw = 0.5, marker = 'o', ms = 2, label = \"$x_0$ = 0.8\")\n",
    "axs[0].plot(m2.xList, ls = '--', marker = 's', ms = 2, label = \"$x_0$ = 0.8 + 1e-10\")\n",
    "axs[2].semilogy(diff1, ls = '--', marker = 'o', ms = 2, label = \"$\\mu$ = 3.2\")\n",
    "    \n",
    "m3 = lm.LogisticMap(0.8, mu = 3.8)\n",
    "m3.iterate(80)    \n",
    "m4 = lm.LogisticMap(0.8+delta, mu = 3.8)\n",
    "m4.iterate(80)\n",
    "diff2 = np.abs(np.array(m4.xList) - np.array(m3.xList))\n",
    "\n",
    "axs[1].plot(m4.xList, ls = '--', lw = 0.5,  marker = 'o', ms = 2, label = \"$x_0$ = 0.8\")\n",
    "axs[1].plot(m3.xList, ls = '--', marker = 'o', ms = 2, label = \"$x_0$ = 0.8 + 1e-10\")\n",
    "axs[3].semilogy(diff2, ls = '--', marker = 'o', ms = 2, label = \"$\\mu$ = 3.8\")\n",
    "\n",
    "axs[0].set_ylabel('$x_n$')\n",
    "axs[2].set_ylabel('$\\Delta x_n$')\n",
    "for ax in axs:\n",
    "    ax.set_xlabel('$n$')\n",
    "    \n",
    "\n",
    "axs[0].set_title(\"$\\mu = 3.2$\")\n",
    "axs[1].set_title(\"$\\mu = 3.8$\")\n",
    "axs[0].legend(loc = 3,fontsize = 10, markerscale = 0.5)\n",
    "axs[1].legend(loc = 3,fontsize = 10, markerscale = 0.5)\n",
    "fig.subplots_adjust(top = 0.95, bottom =0.09, left = 0.12, right =0.98, wspace = 0.2, hspace = 0.3)"
   ]
  },
  {
   "cell_type": "markdown",
   "metadata": {},
   "source": [
    "## Lyapunov Exponent for the logistic map"
   ]
  },
  {
   "cell_type": "code",
   "execution_count": null,
   "metadata": {},
   "outputs": [],
   "source": [
    "x0 = 0.4\n",
    "mu_start = 1\n",
    "mu_stop = 4\n",
    "mu_steps = 1000\n",
    "mus = np.linspace(mu_start, mu_stop, mu_steps)\n",
    " \n",
    "lyapunov_list = [] \n",
    "for mu in mus:\n",
    "    m = lm.LogisticMap(x0, mu = mu)\n",
    "    l = m.lyapunov(1000, 200)\n",
    "    lyapunov_list.append(l)\n",
    "\n",
    "fig = plt.figure(figsize = [8,6])\n",
    "ax = fig.add_subplot(111)\n",
    "ax.plot(mus, lyapunov_list,'.', markersize = 1)\n",
    "ax.hlines(0,0,4, lineStyles = '--', lw = 1,colors = 'k')\n",
    "#ax.set_ylim([-2,1])\n",
    "ax.set_xlim([mu_start, mu_stop])\n",
    "ax.set_xlabel('$\\mu$')\n",
    "ax.set_ylabel('$\\lambda$')\n"
   ]
  },
  {
   "cell_type": "markdown",
   "metadata": {},
   "source": [
    "## Exercise\n",
    "* Explore the Lyapunov exponent for different values of $\\mu$ and $x_0$. What happens to the trajectories right at the cusps of the Lyapunov exponent, for example at $\\mu=2$? What about when $\\lambda=0$?\n",
    "* Can you numerically compute the Lyapunov exponent for a given $\\mu$ and compare with the exact result?"
   ]
  },
  {
   "cell_type": "code",
   "execution_count": null,
   "metadata": {},
   "outputs": [],
   "source": []
  }
 ],
 "metadata": {
  "kernelspec": {
   "display_name": "Python 3",
   "language": "python",
   "name": "python3"
  },
  "language_info": {
   "codemirror_mode": {
    "name": "ipython",
    "version": 3
   },
   "file_extension": ".py",
   "mimetype": "text/x-python",
   "name": "python",
   "nbconvert_exporter": "python",
   "pygments_lexer": "ipython3",
   "version": "3.8.5"
  }
 },
 "nbformat": 4,
 "nbformat_minor": 2
}
